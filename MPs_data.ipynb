{
 "cells": [
  {
   "cell_type": "code",
   "execution_count": 1,
   "id": "3f68c171",
   "metadata": {},
   "outputs": [],
   "source": [
    "import requests\n",
    "import re\n",
    "import sqlite3\n",
    "from bs4 import BeautifulSoup\n",
    "import pandas as pd\n",
    "import numpy as np"
   ]
  },
  {
   "cell_type": "code",
   "execution_count": 2,
   "id": "fadb4f8a",
   "metadata": {},
   "outputs": [
    {
     "name": "stdout",
     "output_type": "stream",
     "text": [
      "Fetching data from the site\n",
      "Parsing the data using BeautifulSoup\n",
      "Working on Headers\n",
      "Extracting data from the table\n",
      "Table data extracted\n"
     ]
    }
   ],
   "source": [
    "def clean_text(text):\n",
    "    # Remove any newlines and extra spaces from left and right\n",
    "    text = (text.replace('\\n', ' ')).strip()\n",
    "    # Remove special character found on Candidate field\n",
    "    text = text.replace('∇', '')\n",
    "    # Remove unicode escape characters (found in Assets and Liabilities columns)\n",
    "    if (\"\\xa0\" in text and (text != \"Nil\" or text != \"NIL\")):\n",
    "        text = (text.encode(\"ascii\", \"ignore\")).decode()\n",
    "        # Remove commas from amounts\n",
    "        text = text.replace(\",\",\"\")\n",
    "        # Remove the currency denominator\n",
    "        match = re.search(r\"^Rs(\\d+)~*\",text)\n",
    "        text = match.group(1)\n",
    "    # Remove Nil(text) for the entire column to be integers\n",
    "    if text == \"Nil\":\n",
    "        text = \"\"\n",
    "    # Convert strings which are only numbers to integers. Helpful when inserting into database\n",
    "    if text.isdigit():\n",
    "        text = int(text)\n",
    "    return text\n",
    "\n",
    "# Election candidate url\n",
    "url = 'https://myneta.info/LokSabha2019/index.php?action=summary&subAction=candidates_analyzed&sort=candidate#summary'\n",
    "# Fetch data from the site\n",
    "print(\"Fetching data from the site\")\n",
    "page = requests.get(url)\n",
    "# Parse the data as html\n",
    "print(\"Parsing the data using BeautifulSoup\")\n",
    "soup = BeautifulSoup(page.content, 'html.parser')\n",
    "# Find the required table \n",
    "#table = soup.find(text=\"CPI(M)\").find_parent(\"table\")\n",
    "table = soup.find_all('table')[2]\n",
    "# Find and Save the headings\n",
    "print(\"Working on Headers\")\n",
    "headings = []\n",
    "for th in table.find_all(\"th\"):\n",
    "    text = th.text.replace(\" \", \"\")\n",
    "    headings.append(clean_text(text))\n",
    "print(\"Extracting data from the table\")\n",
    "table_data = []\n",
    "#table_data.append(headings)\n",
    "for row in table.find_all(\"tr\")[2:]:\n",
    "    table_data.append([clean_text(cell.get_text()) for cell in row.find_all(\"td\")]) # list comprehension - new learning\n",
    "print(\"Table data extracted\")"
   ]
  },
  {
   "cell_type": "code",
   "execution_count": 3,
   "id": "07dd0de2",
   "metadata": {},
   "outputs": [
    {
     "name": "stdout",
     "output_type": "stream",
     "text": [
      "Table Data 1 Extracted\n",
      "[['2', 'A Narayanaswamy', 'CHITRADURGA', 'BJP', 'Graduate', '96197642', '0'], ['3', 'A. Raja', 'NILGIRIS', 'DMK', 'Graduate Professional', '49591024', '1424914'], ['4', 'Abdul Khaleque', 'BARPETA', 'INC', 'Post Graduate', '7398753', '2703693'], ['5', 'Abhishek Banerjee', 'DIAMOND HARBOUR', 'AITC', 'Graduate', '13794320', '0'], ['6', 'Abu Hasem Khan Chowdhury', 'MALDAHA DAKSHIN', 'INC', 'Doctorate', '270959520', '728107'], ['7', 'Abu Taher Khan', 'MURSHIDABAD', 'AITC', '8th Pass', '8926616', '1350000'], ['8', 'Achyutananda Samanta', 'KANDHAMAL', 'BJD', 'Doctorate', '1244722', '0'], ['9', 'Adala Prabhakara Reddy', 'NELLORE', 'YSRCP', '12th Pass', '2211663364', '152281255'], ['10', 'Adhir Ranjan Chowdhury', 'BAHARAMPUR', 'INC', '10th Pass', '101315437', '8506984']]\n"
     ]
    }
   ],
   "source": [
    "# Fetch data from the site\n",
    "response = requests.get(\"https://myneta.info/LokSabha2019/index.php?action=summary&subAction=winner_analyzed&sort=candidate#summary\")\n",
    "# Store it as a string\n",
    "html_source = str(response.content)\n",
    "# Using regex to find table\n",
    "regex = \"<table style=.*?>(.*?)</table>\"\n",
    "# Taking table 2 from the site\n",
    "table = re.compile(regex, re.I | re.S).findall(html_source)[2]\n",
    "# Using regex to find all rows\n",
    "row_regex = \"<tr>(.*?)</tr>\"\n",
    "rows = re.compile(row_regex, re.I | re.S).findall(table)[2:]\n",
    "# Using regex to find all columns\n",
    "col_regex = \"<td.*?>(.*?)</td.*?>\"\n",
    "# Creating a new list to store all cells values\n",
    "table_data1 = []\n",
    "for row in rows:\n",
    "    cells = re.compile(col_regex, re.I | re.S).findall(row)\n",
    "    SNo = cells[0]\n",
    "    Candidate = re.compile(\"<a href=.*?>(.*?)</a><b>\").findall(cells[1])[0]\n",
    "    Constituency = cells[2]\n",
    "    Party = cells[3]\n",
    "    Education = cells[5]\n",
    "    Total_Assets = re.compile(\"Rs&nbsp;(.*?)<br>\").findall(cells[6].replace(\",\",\"\"))[0]\n",
    "    Liabilities = re.compile(\"Rs&nbsp;(.*?)<br>\").findall(cells[7].replace(\",\",\"\"))[0]\n",
    "    table_data1.append([SNo, Candidate, Constituency, Party, Education, Total_Assets, Liabilities])\n",
    "print(\"Table Data 1 Extracted\")\n",
    "print(table_data1[1:10])"
   ]
  },
  {
   "cell_type": "code",
   "execution_count": 4,
   "id": "e63f1392",
   "metadata": {},
   "outputs": [
    {
     "name": "stdout",
     "output_type": "stream",
     "text": [
      "Creating database connection\n",
      "Creating candidates table in the database\n",
      "Inserting rows into candidates table\n",
      "Table created and data inserted successfully!\n"
     ]
    }
   ],
   "source": [
    "# Create a connection to the database\n",
    "print(\"Creating database connection\")\n",
    "conn = sqlite3.connect('india_election.db')\n",
    "\n",
    "# Create a cursor\n",
    "cursor = conn.cursor()\n",
    "\n",
    "sql_query = 'DROP TABLE IF EXISTS candidates'\n",
    "cursor.execute(sql_query)\n",
    "\n",
    "# Build the SQL statement to create the table\n",
    "sql_query = ('''CREATE TABLE candidates (\n",
    "                Sno INTEGER PRIMARY KEY,\n",
    "                Candidate TEXT NOT NULL,\n",
    "                Constituency TEXT,\n",
    "                Party TEXT,\n",
    "                CriminalCase INTEGER,\n",
    "                Education TEXT,\n",
    "                TotalAssets INTEGER,\n",
    "                Liabilities INTEGER\n",
    "                )\n",
    "            ''')\n",
    "\n",
    "# Execute the SQL statement to create the table\n",
    "print(\"Creating candidates table in the database\")\n",
    "cursor.execute(sql_query)\n",
    "\n",
    "# Insert the data into the table\n",
    "print(\"Inserting rows into candidates table\")\n",
    "cursor.executemany('INSERT INTO candidates VALUES (?, ?, ?, ?, ?, ?, ?, ?)', table_data)\n",
    "\n",
    "# Save the changes to database\n",
    "conn.commit()\n",
    "print(\"Table created and data inserted successfully!\")"
   ]
  },
  {
   "cell_type": "code",
   "execution_count": 5,
   "id": "4532e917",
   "metadata": {},
   "outputs": [
    {
     "name": "stdout",
     "output_type": "stream",
     "text": [
      "Creating winners table in the database\n",
      "Inserting rows into winners table\n",
      "Winners table created and data inserted successfully!\n"
     ]
    }
   ],
   "source": [
    "sql_query1 = 'DROP TABLE IF EXISTS winners'\n",
    "cursor.execute(sql_query1)\n",
    "\n",
    "# Build the SQL statement to create the table\n",
    "sql_query1 = (\"\"\"CREATE TABLE winners (\n",
    "                Sno varchar(5),\n",
    "                Candidate varchar(100),\n",
    "                Constituency varchar(50),\n",
    "                Party varchar(50),\n",
    "                Education varchar(50),\n",
    "                TotalAssets int(10),\n",
    "                Liabilities int(10)\n",
    "                )\n",
    "            \"\"\")\n",
    "\n",
    "# Execute the SQL statement to create the table\n",
    "print(\"Creating winners table in the database\")\n",
    "cursor.execute(sql_query1)\n",
    "\n",
    "# Insert the data into the table\n",
    "print(\"Inserting rows into winners table\")\n",
    "\n",
    "cursor.executemany('INSERT INTO winners VALUES (?, ?, ?, ?, ?, ?, ?)', table_data1)\n",
    "\n",
    "# Save the changes to database\n",
    "conn.commit()\n",
    "print(\"Winners table created and data inserted successfully!\")"
   ]
  },
  {
   "cell_type": "code",
   "execution_count": 6,
   "id": "113af773",
   "metadata": {},
   "outputs": [
    {
     "name": "stdout",
     "output_type": "stream",
     "text": [
      "Verify: Candidates with Criminal cases more than 15\n",
      "\n",
      "(173, 'Adv.Prakash Babu', 'KOZHIKODE', 'BJP', 22, 'Post Graduate', 3524377, 343064)\n",
      "(484, 'Anil Kumar', 'BUXAR', 'Jantantrik Vikas Party', 22, 'Graduate', 162240912, 13103750)\n",
      "(568, 'Anumula Revanth Reddy', 'MALKAJGIRI', 'INC', 42, 'Graduate', 245357182, 27807304)\n",
      "(618, 'Arjun Singh', 'BARRACKPUR', 'BJP', 24, '10th Pass', 8055691, 1100000)\n",
      "(796, 'Ateek Ahmad', 'VARANASI', 'IND', 59, '8th Pass', 255020529, 0)\n",
      "(851, 'B.B.Patil', 'ZAHIRABAD', 'TRS', 18, 'Graduate', 1287851556, 11535000)\n",
      "(1014, 'Bapu Rao Soyam', 'ADILABAD', 'BJP', 52, '12th Pass', 3099414, 231450)\n",
      "(1608, 'Dean Kuriakose', 'IDUKKI', 'INC', 204, 'Post Graduate', 13395011, 10000000)\n",
      "(2264, 'George Tirkey', 'SUNDARGARH', 'INC', 41, '12th Pass', 901058, 0)\n",
      "(2904, 'K Surendran', 'PATHANAMTHITTA', 'BJP', 240, 'Graduate', 4044300, 1308799)\n",
      "(3102, 'Karia Dhirenbhai Amrutlal', 'JUNAGADH', 'IND', 28, '10th Pass', 82928865, 5796716)\n",
      "(4575, 'Oli Mahammad Mallick', 'BARASAT', 'CPI(ML) Red Star', 32, '12th Pass', 825815, 0)\n",
      "(5422, 'Rajesh Ranjan', 'MADHEPURA', 'Jan Adhikar Party (Loktantrik)', 31, 'Graduate', 119543561, 17695194)\n",
      "(6140, 'Sameer Magan Bhujbal', 'NASHIK', 'NCP', 16, '10th Pass', 654659863, 130481204)\n",
      "(6363, 'Saritha S Nair', 'AMETHI', 'IND', 34, 'Others', 4380000, 1000000)\n",
      "(6864, 'Sobha Surendran', 'ATTINGAL', 'BJP', 40, 'Graduate', 1981638, 0)\n",
      "(7941, 'Yogesh Verma', 'BULANDSHAHR', 'BSP', 28, '12th Pass', 47337130, 8609902)\n",
      "Verify: Winners with Assets more than 1billion\n",
      "\n",
      "('9', 'Adala Prabhakara Reddy', 'NELLORE', 'YSRCP', '12th Pass', 2211663364, 152281255)\n",
      "('35', 'Anurag Sharma', 'JHANSI', 'BJP', 'Post Graduate', 1243060113, 14212970)\n",
      "('54', 'B.B.Patil', 'ZAHIRABAD', 'TRS', 'Graduate', 1287851556, 11535000)\n",
      "('55', 'B.N.Bache Gowda', 'CHIKKBALLAPUR', 'BJP', 'Graduate Professional', 1153501141, 0)\n",
      "('77', 'Bhonsle Shrimant Chhatrapati Udayanraje Pratapasinh Maharaj', 'SATARA', 'NCP', '12th Pass', 1996813173, 12340338)\n",
      "('103', 'D.K. Suresh', 'BANGALORE RURAL', 'INC', '12th Pass', 3388920717, 519320305)\n",
      "('151', 'Dr.Gaddam Ranjith Reddy', 'CHEVELLA', 'TRS', 'Post Graduate', 1634695131, 197007553)\n",
      "('171', 'Gautam Gambhir', 'EAST DELHI', 'BJP', '12th Pass', 1471587789, 342035860)\n",
      "('192', 'Harsimrat Kaur Badal', 'BATHINDA', 'SAD', '10th Pass', 2179919870, 954852600)\n",
      "('195', 'Hema Malini Dharmendra Deol', 'MATHURA', 'BJP', 'Doctorate', 2508270292, 131288062)\n",
      "('212', 'Jayadev Galla', 'GUNTUR', 'TDP', 'Graduate', 3051485242, 203452417)\n",
      "('232', 'Kanumuru Raghu Rama Krishna Raju', 'NARSAPURAM', 'YSRCP', 'Post Graduate', 3259405378, 1014467354)\n",
      "('250', 'Kotha Prabhakar Reddy', 'MEDAK', 'TRS', 'Graduate', 1266581773, 268266203)\n",
      "('266', 'M V V Satyanarayana', 'VISAKHAPATNAM', 'YSRCP', '10th Pass', 2023905124, 160030959)\n",
      "('275', 'Mala Rajya Laxmi Shah', 'TEHRI GARHWAL', 'BJP', '12th Pass', 1846640100, 1350000000)\n",
      "('277', 'Malook Nagar', 'BIJNOR', 'BSP', 'Graduate', 2499628021, 1016148176)\n",
      "('300', 'Nakul Nath', 'CHHINDWARA', 'INC', 'Graduate', 6601946757, 8791712)\n",
      "('303', 'Nama Nageswr Rao', 'KHAMMAM', 'TRS', '12th Pass', 1074671341, 80721594)\n",
      "('338', 'Pinaki Misra', 'PURI', 'BJD', 'Graduate Professional', 1174701344, 21932742)\n",
      "('406', 'Ranjeetsinha Hindurao Naik Nimbalkar', 'MADHA', 'BJP', '12th Pass', 1275160578, 896315287)\n",
      "('425', 'S. Jagathrakshakan', 'ARAKKONAM', 'DMK', '10th Pass', 1146984897, 166365972)\n",
      "('462', 'Shrirang Chandu Barne', 'MAVAL', 'SHS', '8th Pass', 1023310134, 416612)\n",
      "('483', 'Sukhbir Singh Badal', 'FIROZPUR', 'SAD', 'Post Graduate', 2179919870, 954852600)\n",
      "('484', 'Sukhbir Singh Jaunapuria', 'TONK SAWAI MADHOPUR', 'BJP', '12th Pass', 1233802420, 0)\n",
      "('495', 'Supriya Sadanand Sule', 'BARAMATI', 'NCP', 'Graduate', 1408888704, 5500000)\n",
      "('522', 'Vasanthakumar H', 'KANNIYAKUMARI', 'INC', 'Post Graduate', 4174930444, 1547511439)\n"
     ]
    }
   ],
   "source": [
    "# Verify the tables\n",
    "print(\"Verify: Candidates with Criminal cases more than 15\\n\")\n",
    "cursor.execute('SELECT * FROM candidates WHERE CriminalCase>15')\n",
    "for row in cursor:\n",
    "    print(row)\n",
    "\n",
    "print(\"Verify: Winners with Assets more than 1billion\\n\")\n",
    "cursor.execute('SELECT * FROM winners WHERE TotalAssets>1000000000')\n",
    "for row in cursor:\n",
    "    print(row)\n",
    "    "
   ]
  },
  {
   "cell_type": "code",
   "execution_count": 7,
   "id": "9f554226",
   "metadata": {},
   "outputs": [
    {
     "name": "stdout",
     "output_type": "stream",
     "text": [
      "Verify: Candidates2 with Criminal cases more than 15\n",
      "\n",
      "(173, 'Adv.Prakash Babu', 'KOZHIKODE', 'BJP', 22, 'Post Graduate', 3524377, 343064, None)\n",
      "(484, 'Anil Kumar', 'BUXAR', 'Jantantrik Vikas Party', 22, 'Graduate', 162240912, 13103750, None)\n",
      "(568, 'Anumula Revanth Reddy', 'MALKAJGIRI', 'INC', 42, 'Graduate', 245357182, 27807304, 'Anumula Revanth Reddy')\n",
      "(618, 'Arjun Singh', 'BARRACKPUR', 'BJP', 24, '10th Pass', 8055691, 1100000, 'Arjun Singh')\n",
      "(796, 'Ateek Ahmad', 'VARANASI', 'IND', 59, '8th Pass', 255020529, 0, None)\n",
      "(851, 'B.B.Patil', 'ZAHIRABAD', 'TRS', 18, 'Graduate', 1287851556, 11535000, 'B.B.Patil')\n",
      "(1014, 'Bapu Rao Soyam', 'ADILABAD', 'BJP', 52, '12th Pass', 3099414, 231450, 'Bapu Rao Soyam')\n",
      "(1608, 'Dean Kuriakose', 'IDUKKI', 'INC', 204, 'Post Graduate', 13395011, 10000000, 'Dean Kuriakose')\n",
      "(2264, 'George Tirkey', 'SUNDARGARH', 'INC', 41, '12th Pass', 901058, 0, None)\n",
      "(2904, 'K Surendran', 'PATHANAMTHITTA', 'BJP', 240, 'Graduate', 4044300, 1308799, None)\n",
      "(3102, 'Karia Dhirenbhai Amrutlal', 'JUNAGADH', 'IND', 28, '10th Pass', 82928865, 5796716, None)\n",
      "(4575, 'Oli Mahammad Mallick', 'BARASAT', 'CPI(ML) Red Star', 32, '12th Pass', 825815, 0, None)\n",
      "(5422, 'Rajesh Ranjan', 'MADHEPURA', 'Jan Adhikar Party (Loktantrik)', 31, 'Graduate', 119543561, 17695194, None)\n",
      "(6140, 'Sameer Magan Bhujbal', 'NASHIK', 'NCP', 16, '10th Pass', 654659863, 130481204, None)\n",
      "(6363, 'Saritha S Nair', 'AMETHI', 'IND', 34, 'Others', 4380000, 1000000, None)\n",
      "(6864, 'Sobha Surendran', 'ATTINGAL', 'BJP', 40, 'Graduate', 1981638, 0, None)\n",
      "(7941, 'Yogesh Verma', 'BULANDSHAHR', 'BSP', 28, '12th Pass', 47337130, 8609902, None)\n"
     ]
    }
   ],
   "source": [
    "sql_query2 = 'DROP TABLE IF EXISTS candidates2'\n",
    "cursor.execute(sql_query2)\n",
    "cursor.execute(\"\"\" CREATE TABLE candidates2 AS\n",
    "                       SELECT a.Sno, a.Candidate, a.Constituency, a.Party, a.CriminalCase, a.Education,\n",
    "                       a.TotalAssets, a.Liabilities, b.Candidate\n",
    "                       FROM candidates as a\n",
    "                       LEFT JOIN winners as b ON a.Candidate = b.Candidate;\n",
    "                \"\"\")\n",
    "print(\"Verify: Candidates2 with Criminal cases more than 15\\n\")\n",
    "cursor.execute('SELECT * FROM candidates2 WHERE CriminalCase>15')\n",
    "for row in cursor:\n",
    "    print(row)"
   ]
  },
  {
   "cell_type": "code",
   "execution_count": 8,
   "id": "2de35d52",
   "metadata": {},
   "outputs": [
    {
     "name": "stdout",
     "output_type": "stream",
     "text": [
      "Converted into a dataframe successfully!\n",
      "MPs dataframe count of each column  \n",
      " Sno             7957\n",
      "Candidate       7957\n",
      "Constituency    7957\n",
      "Party           7957\n",
      "CriminalCase    7957\n",
      "Education       7957\n",
      "TotalAssets     7957\n",
      "Liabilities     7957\n",
      "Candidate:1      590\n",
      "dtype: int64\n"
     ]
    }
   ],
   "source": [
    "# Converting database into dataframe\n",
    "MPs = pd.read_sql_query(\"SELECT * FROM candidates2\", conn)\n",
    "print(\"Converted into a dataframe successfully!\")\n",
    "\n",
    "# Verify the dataframe\n",
    "print(\"MPs dataframe count of each column  \\n\",MPs.count())    \n",
    "\n",
    "# Close the connection\n",
    "conn.close()"
   ]
  },
  {
   "cell_type": "code",
   "execution_count": 9,
   "id": "166549e1",
   "metadata": {},
   "outputs": [
    {
     "data": {
      "text/html": [
       "<div>\n",
       "<style scoped>\n",
       "    .dataframe tbody tr th:only-of-type {\n",
       "        vertical-align: middle;\n",
       "    }\n",
       "\n",
       "    .dataframe tbody tr th {\n",
       "        vertical-align: top;\n",
       "    }\n",
       "\n",
       "    .dataframe thead th {\n",
       "        text-align: right;\n",
       "    }\n",
       "</style>\n",
       "<table border=\"1\" class=\"dataframe\">\n",
       "  <thead>\n",
       "    <tr style=\"text-align: right;\">\n",
       "      <th></th>\n",
       "      <th>Sno</th>\n",
       "      <th>CriminalCase</th>\n",
       "      <th>Liabilities</th>\n",
       "    </tr>\n",
       "  </thead>\n",
       "  <tbody>\n",
       "    <tr>\n",
       "      <th>count</th>\n",
       "      <td>7957.000000</td>\n",
       "      <td>7957.000000</td>\n",
       "      <td>7.957000e+03</td>\n",
       "    </tr>\n",
       "    <tr>\n",
       "      <th>mean</th>\n",
       "      <td>3979.000000</td>\n",
       "      <td>0.572075</td>\n",
       "      <td>5.580510e+06</td>\n",
       "    </tr>\n",
       "    <tr>\n",
       "      <th>std</th>\n",
       "      <td>2297.132379</td>\n",
       "      <td>4.063101</td>\n",
       "      <td>4.618961e+07</td>\n",
       "    </tr>\n",
       "    <tr>\n",
       "      <th>min</th>\n",
       "      <td>1.000000</td>\n",
       "      <td>0.000000</td>\n",
       "      <td>0.000000e+00</td>\n",
       "    </tr>\n",
       "    <tr>\n",
       "      <th>25%</th>\n",
       "      <td>1990.000000</td>\n",
       "      <td>0.000000</td>\n",
       "      <td>0.000000e+00</td>\n",
       "    </tr>\n",
       "    <tr>\n",
       "      <th>50%</th>\n",
       "      <td>3979.000000</td>\n",
       "      <td>0.000000</td>\n",
       "      <td>0.000000e+00</td>\n",
       "    </tr>\n",
       "    <tr>\n",
       "      <th>75%</th>\n",
       "      <td>5968.000000</td>\n",
       "      <td>0.000000</td>\n",
       "      <td>6.197550e+05</td>\n",
       "    </tr>\n",
       "    <tr>\n",
       "      <th>max</th>\n",
       "      <td>7957.000000</td>\n",
       "      <td>240.000000</td>\n",
       "      <td>1.547511e+09</td>\n",
       "    </tr>\n",
       "  </tbody>\n",
       "</table>\n",
       "</div>"
      ],
      "text/plain": [
       "               Sno  CriminalCase   Liabilities\n",
       "count  7957.000000   7957.000000  7.957000e+03\n",
       "mean   3979.000000      0.572075  5.580510e+06\n",
       "std    2297.132379      4.063101  4.618961e+07\n",
       "min       1.000000      0.000000  0.000000e+00\n",
       "25%    1990.000000      0.000000  0.000000e+00\n",
       "50%    3979.000000      0.000000  0.000000e+00\n",
       "75%    5968.000000      0.000000  6.197550e+05\n",
       "max    7957.000000    240.000000  1.547511e+09"
      ]
     },
     "metadata": {},
     "output_type": "display_data"
    }
   ],
   "source": [
    "display(MPs.describe())"
   ]
  },
  {
   "cell_type": "code",
   "execution_count": 10,
   "id": "75c80610",
   "metadata": {},
   "outputs": [
    {
     "data": {
      "text/plain": [
       "Sno              int64\n",
       "Candidate       object\n",
       "Constituency    object\n",
       "Party           object\n",
       "CriminalCase     int64\n",
       "Education       object\n",
       "TotalAssets     object\n",
       "Liabilities      int64\n",
       "Candidate:1     object\n",
       "dtype: object"
      ]
     },
     "metadata": {},
     "output_type": "display_data"
    },
    {
     "data": {
      "text/plain": [
       "Sno               int64\n",
       "Candidate        object\n",
       "Constituency     object\n",
       "Party            object\n",
       "CriminalCase      int64\n",
       "Education        object\n",
       "TotalAssets     float64\n",
       "Liabilities       int64\n",
       "Candidate:1      object\n",
       "dtype: object"
      ]
     },
     "metadata": {},
     "output_type": "display_data"
    }
   ],
   "source": [
    "# Asset type is shown as object, converting it to integer\n",
    "display(MPs.dtypes)\n",
    "MPs[\"TotalAssets\"] = pd.to_numeric(MPs[\"TotalAssets\"])\n",
    "#MPs[\"TotalAssets\"] = MPs['TotalAssets'].astype(np.int64)\n",
    "display(MPs.dtypes)"
   ]
  },
  {
   "cell_type": "code",
   "execution_count": 11,
   "id": "3fcb662c",
   "metadata": {},
   "outputs": [
    {
     "data": {
      "text/html": [
       "<div>\n",
       "<style scoped>\n",
       "    .dataframe tbody tr th:only-of-type {\n",
       "        vertical-align: middle;\n",
       "    }\n",
       "\n",
       "    .dataframe tbody tr th {\n",
       "        vertical-align: top;\n",
       "    }\n",
       "\n",
       "    .dataframe thead th {\n",
       "        text-align: right;\n",
       "    }\n",
       "</style>\n",
       "<table border=\"1\" class=\"dataframe\">\n",
       "  <thead>\n",
       "    <tr style=\"text-align: right;\">\n",
       "      <th></th>\n",
       "      <th>Sno</th>\n",
       "      <th>CriminalCase</th>\n",
       "      <th>TotalAssets</th>\n",
       "      <th>Liabilities</th>\n",
       "    </tr>\n",
       "  </thead>\n",
       "  <tbody>\n",
       "    <tr>\n",
       "      <th>count</th>\n",
       "      <td>7957</td>\n",
       "      <td>7957</td>\n",
       "      <td>7897</td>\n",
       "      <td>7957</td>\n",
       "    </tr>\n",
       "    <tr>\n",
       "      <th>mean</th>\n",
       "      <td>3979</td>\n",
       "      <td>0.572075</td>\n",
       "      <td>4.18214e+07</td>\n",
       "      <td>5.58051e+06</td>\n",
       "    </tr>\n",
       "    <tr>\n",
       "      <th>std</th>\n",
       "      <td>2297.13</td>\n",
       "      <td>4.0631</td>\n",
       "      <td>2.51683e+08</td>\n",
       "      <td>4.61896e+07</td>\n",
       "    </tr>\n",
       "    <tr>\n",
       "      <th>min</th>\n",
       "      <td>1</td>\n",
       "      <td>0</td>\n",
       "      <td>9</td>\n",
       "      <td>0</td>\n",
       "    </tr>\n",
       "    <tr>\n",
       "      <th>25%</th>\n",
       "      <td>1990</td>\n",
       "      <td>0</td>\n",
       "      <td>504000</td>\n",
       "      <td>0</td>\n",
       "    </tr>\n",
       "    <tr>\n",
       "      <th>50%</th>\n",
       "      <td>3979</td>\n",
       "      <td>0</td>\n",
       "      <td>2.7525e+06</td>\n",
       "      <td>0</td>\n",
       "    </tr>\n",
       "    <tr>\n",
       "      <th>75%</th>\n",
       "      <td>5968</td>\n",
       "      <td>0</td>\n",
       "      <td>1.307e+07</td>\n",
       "      <td>619755</td>\n",
       "    </tr>\n",
       "    <tr>\n",
       "      <th>max</th>\n",
       "      <td>7957</td>\n",
       "      <td>240</td>\n",
       "      <td>1.10758e+10</td>\n",
       "      <td>1.54751e+09</td>\n",
       "    </tr>\n",
       "  </tbody>\n",
       "</table>\n",
       "</div>"
      ],
      "text/plain": [
       "           Sno CriminalCase  TotalAssets  Liabilities\n",
       "count     7957         7957         7897         7957\n",
       "mean      3979     0.572075  4.18214e+07  5.58051e+06\n",
       "std    2297.13       4.0631  2.51683e+08  4.61896e+07\n",
       "min          1            0            9            0\n",
       "25%       1990            0       504000            0\n",
       "50%       3979            0   2.7525e+06            0\n",
       "75%       5968            0    1.307e+07       619755\n",
       "max       7957          240  1.10758e+10  1.54751e+09"
      ]
     },
     "metadata": {},
     "output_type": "display_data"
    }
   ],
   "source": [
    "display(MPs.describe().apply(lambda s: s.apply(lambda x: format(x, 'g'))))"
   ]
  },
  {
   "cell_type": "markdown",
   "id": "c30d4219",
   "metadata": {},
   "source": [
    "#Data Cleaning"
   ]
  },
  {
   "cell_type": "code",
   "execution_count": 12,
   "id": "cc531f42",
   "metadata": {},
   "outputs": [
    {
     "data": {
      "text/plain": [
       "Sno               int64\n",
       "Candidate        object\n",
       "Constituency     object\n",
       "Party            object\n",
       "CriminalCase      int64\n",
       "Education        object\n",
       "TotalAssets     float64\n",
       "Liabilities       int64\n",
       "Winner           object\n",
       "dtype: object"
      ]
     },
     "metadata": {},
     "output_type": "display_data"
    },
    {
     "data": {
      "text/plain": [
       "Sno             7957\n",
       "Candidate       7957\n",
       "Constituency    7957\n",
       "Party           7957\n",
       "CriminalCase    7957\n",
       "Education       7957\n",
       "TotalAssets     7897\n",
       "Liabilities     7957\n",
       "Winner           590\n",
       "dtype: int64"
      ]
     },
     "execution_count": 12,
     "metadata": {},
     "output_type": "execute_result"
    }
   ],
   "source": [
    "# Changing column name for Candidate:1\n",
    "MPs.rename(columns = {'Candidate:1':'Winner'}, inplace = True)\n",
    "display(MPs.dtypes)\n",
    "MPs.count()"
   ]
  },
  {
   "cell_type": "code",
   "execution_count": 13,
   "id": "340c4c77",
   "metadata": {},
   "outputs": [
    {
     "data": {
      "text/plain": [
       "array([0, 1])"
      ]
     },
     "metadata": {},
     "output_type": "display_data"
    }
   ],
   "source": [
    "MPs['Winner'] = np.where(MPs['Winner'].isnull(), 0, 1)\n",
    "# Verify\n",
    "display(MPs['Winner'].unique())"
   ]
  },
  {
   "cell_type": "code",
   "execution_count": 14,
   "id": "b070c3c5",
   "metadata": {},
   "outputs": [
    {
     "data": {
      "text/plain": [
       "Sno             7897\n",
       "Candidate       7897\n",
       "Constituency    7897\n",
       "Party           7897\n",
       "CriminalCase    7897\n",
       "Education       7897\n",
       "TotalAssets     7897\n",
       "Liabilities     7897\n",
       "Winner          7897\n",
       "dtype: int64"
      ]
     },
     "execution_count": 14,
     "metadata": {},
     "output_type": "execute_result"
    }
   ],
   "source": [
    "MPs.head()\n",
    "MPs = MPs.dropna()\n",
    "MPs.count()"
   ]
  },
  {
   "cell_type": "markdown",
   "id": "40460c67",
   "metadata": {},
   "source": [
    "#Data Analysis"
   ]
  },
  {
   "cell_type": "code",
   "execution_count": 15,
   "id": "4ec95ed3",
   "metadata": {},
   "outputs": [
    {
     "data": {
      "text/plain": [
       "[(3344, 'IND'),\n",
       " (435, 'BJP'),\n",
       " (420, 'INC'),\n",
       " (379, 'BSP'),\n",
       " (118, 'Bahujan Mukti Party'),\n",
       " (112, 'SUCI(C)'),\n",
       " (96, 'SHS'),\n",
       " (81, 'Pragatishil Samajwadi Party (Lohia)'),\n",
       " (76, 'Ambedkarite Party of India'),\n",
       " (69, 'CPI(M)'),\n",
       " (62, 'AITC'),\n",
       " (56, 'Peoples Party of India (Democratic)'),\n",
       " (53, 'Bharat Prabhat Party'),\n",
       " (50, 'SP'),\n",
       " (49, 'CPI'),\n",
       " (46, 'Vanchit Bahujan Aaghadi'),\n",
       " (46, 'Pyramid Party of India'),\n",
       " (46, 'Hindusthan Nirman Dal'),\n",
       " (36, 'Makkal Needhi Maiam'),\n",
       " (35, 'Naam Tamilar Katchi'),\n",
       " (35, 'AAP'),\n",
       " (34, 'NCP'),\n",
       " (34, 'Bhartiya Shakti Chetna Party'),\n",
       " (34, 'AIFB'),\n",
       " (31, 'RPI(A)'),\n",
       " (29, 'CPI(ML) Red Star'),\n",
       " (27, 'Bahujan Republican Socialist Party'),\n",
       " (26, 'Uttama Prajaakeeya Party'),\n",
       " (25, 'YSRCP'),\n",
       " (25, 'TDP')]"
      ]
     },
     "execution_count": 15,
     "metadata": {},
     "output_type": "execute_result"
    }
   ],
   "source": [
    "party_list = MPs.Party.values.tolist()\n",
    "cloud_dict = {}\n",
    "for word in party_list:\n",
    "        if word in cloud_dict.keys():\n",
    "            cloud_dict[word]+=1\n",
    "        else:\n",
    "            cloud_dict[word]=1\n",
    "cloud_list = []\n",
    "for w in cloud_dict:\n",
    "    cloud_list.append((cloud_dict[w], w))\n",
    "cloud_list.sort(reverse=True)\n",
    "cloud_list[0:30]"
   ]
  },
  {
   "cell_type": "code",
   "execution_count": 16,
   "id": "bdee93be",
   "metadata": {},
   "outputs": [
    {
     "data": {
      "image/png": "[encoded data removed]",
      "text/plain": [
       "<Figure size 432x288 with 1 Axes>"
      ]
     },
     "metadata": {
      "needs_background": "light"
     },
     "output_type": "display_data"
    },
    {
     "data": {
      "text/html": [
       "<div>\n",
       "<style scoped>\n",
       "    .dataframe tbody tr th:only-of-type {\n",
       "        vertical-align: middle;\n",
       "    }\n",
       "\n",
       "    .dataframe tbody tr th {\n",
       "        vertical-align: top;\n",
       "    }\n",
       "\n",
       "    .dataframe thead th {\n",
       "        text-align: right;\n",
       "    }\n",
       "</style>\n",
       "<table border=\"1\" class=\"dataframe\">\n",
       "  <thead>\n",
       "    <tr style=\"text-align: right;\">\n",
       "      <th></th>\n",
       "      <th>Sno</th>\n",
       "      <th>Candidate</th>\n",
       "      <th>Constituency</th>\n",
       "      <th>Party</th>\n",
       "      <th>CriminalCase</th>\n",
       "      <th>Education</th>\n",
       "      <th>TotalAssets</th>\n",
       "      <th>Liabilities</th>\n",
       "      <th>Winner</th>\n",
       "    </tr>\n",
       "  </thead>\n",
       "  <tbody>\n",
       "    <tr>\n",
       "      <th>0</th>\n",
       "      <td>1</td>\n",
       "      <td>Bajrang Vats</td>\n",
       "      <td>HISAR</td>\n",
       "      <td>IND</td>\n",
       "      <td>0</td>\n",
       "      <td>Graduate Professional</td>\n",
       "      <td>3189687.0</td>\n",
       "      <td>0</td>\n",
       "      <td>0</td>\n",
       "    </tr>\n",
       "    <tr>\n",
       "      <th>1</th>\n",
       "      <td>2</td>\n",
       "      <td>Bijender</td>\n",
       "      <td>HISAR</td>\n",
       "      <td>IND</td>\n",
       "      <td>0</td>\n",
       "      <td>5th Pass</td>\n",
       "      <td>3116503.0</td>\n",
       "      <td>630000</td>\n",
       "      <td>0</td>\n",
       "    </tr>\n",
       "    <tr>\n",
       "      <th>2</th>\n",
       "      <td>3</td>\n",
       "      <td>Mange Ram Verma</td>\n",
       "      <td>HISAR</td>\n",
       "      <td>IND</td>\n",
       "      <td>0</td>\n",
       "      <td>12th Pass</td>\n",
       "      <td>14704649.0</td>\n",
       "      <td>0</td>\n",
       "      <td>0</td>\n",
       "    </tr>\n",
       "    <tr>\n",
       "      <th>3</th>\n",
       "      <td>4</td>\n",
       "      <td>Pardeep Kumar</td>\n",
       "      <td>HISAR</td>\n",
       "      <td>IND</td>\n",
       "      <td>0</td>\n",
       "      <td>12th Pass</td>\n",
       "      <td>1073052.0</td>\n",
       "      <td>684517</td>\n",
       "      <td>0</td>\n",
       "    </tr>\n",
       "    <tr>\n",
       "      <th>4</th>\n",
       "      <td>5</td>\n",
       "      <td>Saleem Din</td>\n",
       "      <td>HISAR</td>\n",
       "      <td>IND</td>\n",
       "      <td>0</td>\n",
       "      <td>Others</td>\n",
       "      <td>112150.0</td>\n",
       "      <td>30100</td>\n",
       "      <td>0</td>\n",
       "    </tr>\n",
       "  </tbody>\n",
       "</table>\n",
       "</div>"
      ],
      "text/plain": [
       "   Sno        Candidate Constituency Party  CriminalCase  \\\n",
       "0    1     Bajrang Vats        HISAR   IND             0   \n",
       "1    2         Bijender        HISAR   IND             0   \n",
       "2    3  Mange Ram Verma        HISAR   IND             0   \n",
       "3    4    Pardeep Kumar        HISAR   IND             0   \n",
       "4    5       Saleem Din        HISAR   IND             0   \n",
       "\n",
       "               Education  TotalAssets  Liabilities  Winner  \n",
       "0  Graduate Professional    3189687.0            0       0  \n",
       "1               5th Pass    3116503.0       630000       0  \n",
       "2              12th Pass   14704649.0            0       0  \n",
       "3              12th Pass    1073052.0       684517       0  \n",
       "4                 Others     112150.0        30100       0  "
      ]
     },
     "execution_count": 16,
     "metadata": {},
     "output_type": "execute_result"
    }
   ],
   "source": [
    "#Create a word cloud with WordCloud\n",
    "from os import path\n",
    "from wordcloud import WordCloud, STOPWORDS\n",
    "import matplotlib.pyplot as plt\n",
    "\n",
    "#read the whole file into a text sring\n",
    "for x in party_list:\n",
    "    text += ' '+x\n",
    "\n",
    "#update the STOPWORDS\n",
    "stopwords = set(STOPWORDS)\n",
    "stopwords.update([\"INDIA\",\"PARTY\", \"IND\"])\n",
    "\n",
    "#set a circle mask\n",
    "import numpy as np\n",
    "x, y = np.ogrid[:300, :300]\n",
    "\n",
    "#Is point(x,y) more than 150 pixels away from the center?\n",
    "mask = (x - 150) ** 2 + (y - 150) ** 2 > 150 ** 2\n",
    "mask = 255 * mask.astype(int)\n",
    "    \n",
    "# Generate a word cloud image\n",
    "wc = WordCloud(stopwords=stopwords, \\\n",
    "               background_color=\"white\", \\\n",
    "               mask=mask, \\\n",
    "               max_font_size=40)\n",
    "wc.generate(text)\n",
    "\n",
    "# Display the generated image using matplotlib\n",
    "plt.imshow(wc)\n",
    "plt.axis(\"off\")\n",
    "plt.show()\n",
    "MPs.head()"
   ]
  },
  {
   "cell_type": "code",
   "execution_count": 17,
   "id": "c8a8274c",
   "metadata": {},
   "outputs": [
    {
     "data": {
      "text/plain": [
       "<AxesSubplot:title={'center':'Top 10 Political party with Highest Assets'}, xlabel='Party', ylabel='TotalAssets'>"
      ]
     },
     "execution_count": 17,
     "metadata": {},
     "output_type": "execute_result"
    },
    {
     "data": {
      "image/png": "[encoded data removed]",
      "text/plain": [
       "<Figure size 432x288 with 1 Axes>"
      ]
     },
     "metadata": {
      "needs_background": "light"
     },
     "output_type": "display_data"
    }
   ],
   "source": [
    "Assets_grouped = MPs.groupby(by=\"Party\")[\"TotalAssets\"].sum()\n",
    "#print(Assets_grouped)\n",
    "Assets_grouped = Assets_grouped.sort_values(ascending=False)\n",
    "Assets_grouped[0:9].plot(kind='bar', title = \"Top 10 Political party with Highest Assets\", ylabel = \"TotalAssets\")"
   ]
  },
  {
   "cell_type": "code",
   "execution_count": 18,
   "id": "4940cba1",
   "metadata": {},
   "outputs": [
    {
     "data": {
      "text/plain": [
       "<AxesSubplot:title={'center':'Top 10 Political party with Highest Liabilities'}, xlabel='Party', ylabel='TotalLiabilities'>"
      ]
     },
     "execution_count": 18,
     "metadata": {},
     "output_type": "execute_result"
    },
    {
     "data": {
      "image/png": "[encoded data removed]",
      "text/plain": [
       "<Figure size 432x288 with 1 Axes>"
      ]
     },
     "metadata": {
      "needs_background": "light"
     },
     "output_type": "display_data"
    }
   ],
   "source": [
    "Liabilities_grouped = MPs.groupby(by=\"Party\")[\"Liabilities\"].sum()\n",
    "#print(Liabilities_grouped)\n",
    "Liabilities_grouped = Liabilities_grouped.sort_values(ascending=False)\n",
    "Liabilities_grouped[0:9].plot(kind='bar', title = \"Top 10 Political party with Highest Liabilities\", ylabel = \"TotalLiabilities\" )"
   ]
  },
  {
   "cell_type": "code",
   "execution_count": 19,
   "id": "d0702e46",
   "metadata": {},
   "outputs": [
    {
     "data": {
      "text/plain": [
       "<AxesSubplot:title={'center':'% of Top 10 Political parties with Highest Criminal Cases'}, ylabel='CriminalCase'>"
      ]
     },
     "execution_count": 19,
     "metadata": {},
     "output_type": "execute_result"
    },
    {
     "data": {
      "image/png": "[encoded data removed]",
      "text/plain": [
       "<Figure size 432x288 with 1 Axes>"
      ]
     },
     "metadata": {},
     "output_type": "display_data"
    }
   ],
   "source": [
    "Cases_grouped = MPs.groupby(by=\"Party\")[\"CriminalCase\"].sum()\n",
    "labels = [\"INC\", \"BJP\", \"IND\", \"INC\"]\n",
    "Cases_grouped = Cases_grouped.sort_values(ascending=False)\n",
    "Cases_grouped[0:9].plot(kind='pie', title = \"% of Top 10 Political parties with Highest Criminal Cases\", legend=False, autopct='%.0f%%')"
   ]
  },
  {
   "cell_type": "code",
   "execution_count": 20,
   "id": "6819cd9c",
   "metadata": {},
   "outputs": [
    {
     "name": "stdout",
     "output_type": "stream",
     "text": [
      "<class 'pandas.core.frame.DataFrame'>\n",
      "Int64Index: 7897 entries, 0 to 7956\n",
      "Data columns (total 10 columns):\n",
      " #   Column        Non-Null Count  Dtype  \n",
      "---  ------        --------------  -----  \n",
      " 0   Sno           7897 non-null   int64  \n",
      " 1   Candidate     7897 non-null   object \n",
      " 2   Constituency  7897 non-null   object \n",
      " 3   Party         7897 non-null   object \n",
      " 4   CriminalCase  7897 non-null   int64  \n",
      " 5   Education     7897 non-null   object \n",
      " 6   TotalAssets   7897 non-null   float64\n",
      " 7   Liabilities   7897 non-null   int64  \n",
      " 8   Winner        7897 non-null   int32  \n",
      " 9   Party_Type    7897 non-null   object \n",
      "dtypes: float64(1), int32(1), int64(3), object(5)\n",
      "memory usage: 647.8+ KB\n"
     ]
    }
   ],
   "source": [
    "National_Party = [\"INC\", \"BJP\", \"AAP\", \"BSP\", \"CPI(M)\", \"CPI\", \"NCP\", \"NPP\"]\n",
    "MPs['Party_Type'] = np.where(MPs['Party'].isin(National_Party), \"National\", \"Regional\")\n",
    "MPs['Party_Type'].unique()\n",
    "MPs.info()"
   ]
  },
  {
   "cell_type": "code",
   "execution_count": 21,
   "id": "65e242fb",
   "metadata": {},
   "outputs": [
    {
     "data": {
      "text/plain": [
       "Sno                        int64\n",
       "Candidate                 object\n",
       "Constituency              object\n",
       "Party                     object\n",
       "CriminalCase               int64\n",
       "Education                 object\n",
       "TotalAssets              float64\n",
       "Liabilities                int64\n",
       "Winner                     int32\n",
       "Party_Type                object\n",
       "National                   uint8\n",
       "Regional                   uint8\n",
       "10th Pass                  uint8\n",
       "12th Pass                  uint8\n",
       "5th Pass                   uint8\n",
       "8th Pass                   uint8\n",
       "Doctorate                  uint8\n",
       "Graduate                   uint8\n",
       "Graduate Professional      uint8\n",
       "Illiterate                 uint8\n",
       "Literate                   uint8\n",
       "Not Given                  uint8\n",
       "Others                     uint8\n",
       "Post Graduate              uint8\n",
       "dtype: object"
      ]
     },
     "metadata": {},
     "output_type": "display_data"
    }
   ],
   "source": [
    "#Preprocessing: Dummy Coding categorical variables in training data\n",
    "Party_dummies = pd.get_dummies(MPs['Party_Type'])\n",
    "Education_dummies = pd.get_dummies(MPs['Education'])\n",
    "extended_MPs = MPs.join([Party_dummies,Education_dummies])\n",
    "display(extended_MPs.dtypes)"
   ]
  },
  {
   "cell_type": "code",
   "execution_count": 22,
   "id": "30e9e23a",
   "metadata": {},
   "outputs": [
    {
     "data": {
      "text/html": [
       "<div>\n",
       "<style scoped>\n",
       "    .dataframe tbody tr th:only-of-type {\n",
       "        vertical-align: middle;\n",
       "    }\n",
       "\n",
       "    .dataframe tbody tr th {\n",
       "        vertical-align: top;\n",
       "    }\n",
       "\n",
       "    .dataframe thead th {\n",
       "        text-align: right;\n",
       "    }\n",
       "</style>\n",
       "<table border=\"1\" class=\"dataframe\">\n",
       "  <thead>\n",
       "    <tr style=\"text-align: right;\">\n",
       "      <th></th>\n",
       "      <th>Sno</th>\n",
       "      <th>Candidate</th>\n",
       "      <th>Constituency</th>\n",
       "      <th>Party</th>\n",
       "      <th>CriminalCase</th>\n",
       "      <th>Education</th>\n",
       "      <th>TotalAssets</th>\n",
       "      <th>Liabilities</th>\n",
       "      <th>Winner</th>\n",
       "      <th>Party_Type</th>\n",
       "      <th>...</th>\n",
       "      <th>5th Pass</th>\n",
       "      <th>8th Pass</th>\n",
       "      <th>Doctorate</th>\n",
       "      <th>Graduate</th>\n",
       "      <th>Graduate Professional</th>\n",
       "      <th>Illiterate</th>\n",
       "      <th>Literate</th>\n",
       "      <th>Not Given</th>\n",
       "      <th>Others</th>\n",
       "      <th>Post Graduate</th>\n",
       "    </tr>\n",
       "  </thead>\n",
       "  <tbody>\n",
       "    <tr>\n",
       "      <th>0</th>\n",
       "      <td>1</td>\n",
       "      <td>Bajrang Vats</td>\n",
       "      <td>HISAR</td>\n",
       "      <td>IND</td>\n",
       "      <td>0</td>\n",
       "      <td>Graduate Professional</td>\n",
       "      <td>3189687.0</td>\n",
       "      <td>0</td>\n",
       "      <td>0</td>\n",
       "      <td>Regional</td>\n",
       "      <td>...</td>\n",
       "      <td>0</td>\n",
       "      <td>0</td>\n",
       "      <td>0</td>\n",
       "      <td>0</td>\n",
       "      <td>1</td>\n",
       "      <td>0</td>\n",
       "      <td>0</td>\n",
       "      <td>0</td>\n",
       "      <td>0</td>\n",
       "      <td>0</td>\n",
       "    </tr>\n",
       "    <tr>\n",
       "      <th>1</th>\n",
       "      <td>2</td>\n",
       "      <td>Bijender</td>\n",
       "      <td>HISAR</td>\n",
       "      <td>IND</td>\n",
       "      <td>0</td>\n",
       "      <td>5th Pass</td>\n",
       "      <td>3116503.0</td>\n",
       "      <td>630000</td>\n",
       "      <td>0</td>\n",
       "      <td>Regional</td>\n",
       "      <td>...</td>\n",
       "      <td>1</td>\n",
       "      <td>0</td>\n",
       "      <td>0</td>\n",
       "      <td>0</td>\n",
       "      <td>0</td>\n",
       "      <td>0</td>\n",
       "      <td>0</td>\n",
       "      <td>0</td>\n",
       "      <td>0</td>\n",
       "      <td>0</td>\n",
       "    </tr>\n",
       "    <tr>\n",
       "      <th>2</th>\n",
       "      <td>3</td>\n",
       "      <td>Mange Ram Verma</td>\n",
       "      <td>HISAR</td>\n",
       "      <td>IND</td>\n",
       "      <td>0</td>\n",
       "      <td>12th Pass</td>\n",
       "      <td>14704649.0</td>\n",
       "      <td>0</td>\n",
       "      <td>0</td>\n",
       "      <td>Regional</td>\n",
       "      <td>...</td>\n",
       "      <td>0</td>\n",
       "      <td>0</td>\n",
       "      <td>0</td>\n",
       "      <td>0</td>\n",
       "      <td>0</td>\n",
       "      <td>0</td>\n",
       "      <td>0</td>\n",
       "      <td>0</td>\n",
       "      <td>0</td>\n",
       "      <td>0</td>\n",
       "    </tr>\n",
       "    <tr>\n",
       "      <th>3</th>\n",
       "      <td>4</td>\n",
       "      <td>Pardeep Kumar</td>\n",
       "      <td>HISAR</td>\n",
       "      <td>IND</td>\n",
       "      <td>0</td>\n",
       "      <td>12th Pass</td>\n",
       "      <td>1073052.0</td>\n",
       "      <td>684517</td>\n",
       "      <td>0</td>\n",
       "      <td>Regional</td>\n",
       "      <td>...</td>\n",
       "      <td>0</td>\n",
       "      <td>0</td>\n",
       "      <td>0</td>\n",
       "      <td>0</td>\n",
       "      <td>0</td>\n",
       "      <td>0</td>\n",
       "      <td>0</td>\n",
       "      <td>0</td>\n",
       "      <td>0</td>\n",
       "      <td>0</td>\n",
       "    </tr>\n",
       "    <tr>\n",
       "      <th>4</th>\n",
       "      <td>5</td>\n",
       "      <td>Saleem Din</td>\n",
       "      <td>HISAR</td>\n",
       "      <td>IND</td>\n",
       "      <td>0</td>\n",
       "      <td>Others</td>\n",
       "      <td>112150.0</td>\n",
       "      <td>30100</td>\n",
       "      <td>0</td>\n",
       "      <td>Regional</td>\n",
       "      <td>...</td>\n",
       "      <td>0</td>\n",
       "      <td>0</td>\n",
       "      <td>0</td>\n",
       "      <td>0</td>\n",
       "      <td>0</td>\n",
       "      <td>0</td>\n",
       "      <td>0</td>\n",
       "      <td>0</td>\n",
       "      <td>1</td>\n",
       "      <td>0</td>\n",
       "    </tr>\n",
       "  </tbody>\n",
       "</table>\n",
       "<p>5 rows × 24 columns</p>\n",
       "</div>"
      ],
      "text/plain": [
       "   Sno        Candidate Constituency Party  CriminalCase  \\\n",
       "0    1     Bajrang Vats        HISAR   IND             0   \n",
       "1    2         Bijender        HISAR   IND             0   \n",
       "2    3  Mange Ram Verma        HISAR   IND             0   \n",
       "3    4    Pardeep Kumar        HISAR   IND             0   \n",
       "4    5       Saleem Din        HISAR   IND             0   \n",
       "\n",
       "               Education  TotalAssets  Liabilities  Winner Party_Type  ...  \\\n",
       "0  Graduate Professional    3189687.0            0       0   Regional  ...   \n",
       "1               5th Pass    3116503.0       630000       0   Regional  ...   \n",
       "2              12th Pass   14704649.0            0       0   Regional  ...   \n",
       "3              12th Pass    1073052.0       684517       0   Regional  ...   \n",
       "4                 Others     112150.0        30100       0   Regional  ...   \n",
       "\n",
       "   5th Pass  8th Pass  Doctorate  Graduate  Graduate Professional  Illiterate  \\\n",
       "0         0         0          0         0                      1           0   \n",
       "1         1         0          0         0                      0           0   \n",
       "2         0         0          0         0                      0           0   \n",
       "3         0         0          0         0                      0           0   \n",
       "4         0         0          0         0                      0           0   \n",
       "\n",
       "   Literate  Not Given  Others  Post Graduate  \n",
       "0         0          0       0              0  \n",
       "1         0          0       0              0  \n",
       "2         0          0       0              0  \n",
       "3         0          0       0              0  \n",
       "4         0          0       1              0  \n",
       "\n",
       "[5 rows x 24 columns]"
      ]
     },
     "execution_count": 22,
     "metadata": {},
     "output_type": "execute_result"
    }
   ],
   "source": [
    "MPs.head()\n",
    "extended_MPs.head()"
   ]
  },
  {
   "cell_type": "code",
   "execution_count": 23,
   "id": "6283d830",
   "metadata": {},
   "outputs": [
    {
     "data": {
      "text/plain": [
       "array([0, 0, 0, ..., 2, 0, 1], dtype=int64)"
      ]
     },
     "execution_count": 23,
     "metadata": {},
     "output_type": "execute_result"
    }
   ],
   "source": [
    "extended_MPs = extended_MPs[[\"Sno\", \"Candidate\", \"Constituency\", \"Party\", \"Party_Type\", \"Education\", \"TotalAssets\", \"Liabilities\",\n",
    "            \"Winner\", \"National\", \"Regional\", \"10th Pass\", \"12th Pass\", \"5th Pass\", \"8th Pass\", \"Doctorate\", \"Graduate\",\n",
    "            \"Graduate Professional\", \"Illiterate\", \"Literate\", \"Not Given\", \"Others\", \"Post Graduate\", \"CriminalCase\"]]\n",
    "extended_MPs.head()\n",
    "extended_MPs[\"CriminalCase\"].values"
   ]
  },
  {
   "cell_type": "code",
   "execution_count": 24,
   "id": "1fb7e20e",
   "metadata": {},
   "outputs": [
    {
     "name": "stdout",
     "output_type": "stream",
     "text": [
      "Creating training and testing data\n"
     ]
    }
   ],
   "source": [
    "from sklearn import preprocessing\n",
    "from sklearn.model_selection import train_test_split\n",
    "print(\"Creating training and testing data\")\n",
    "X = extended_MPs.iloc[:, 6:23].values\n",
    "Y = extended_MPs[\"CriminalCase\"].values\n",
    "X_train, X_test, Y_train, Y_test = train_test_split(X, Y, test_size=0.2, random_state=0)\n"
   ]
  },
  {
   "cell_type": "code",
   "execution_count": 25,
   "id": "885f25f1",
   "metadata": {},
   "outputs": [],
   "source": [
    "from sklearn.preprocessing import StandardScaler\n",
    "sc = StandardScaler()\n",
    "X_train = sc.fit_transform(X_train)\n",
    "X_test = sc.fit_transform(X_test)\n"
   ]
  },
  {
   "cell_type": "code",
   "execution_count": 26,
   "id": "4b583308",
   "metadata": {},
   "outputs": [
    {
     "data": {
      "text/plain": [
       "LinearRegression()"
      ]
     },
     "execution_count": 26,
     "metadata": {},
     "output_type": "execute_result"
    }
   ],
   "source": [
    "from sklearn.linear_model import LinearRegression\n",
    "model = LinearRegression()\n",
    "model.fit(X_train, Y_train)"
   ]
  },
  {
   "cell_type": "code",
   "execution_count": 32,
   "id": "f3a236e8",
   "metadata": {},
   "outputs": [
    {
     "name": "stdout",
     "output_type": "stream",
     "text": [
      "Intercept:  0.6370170489558555\n",
      "Coefficient:  [1.51313182e-02 1.38300000e-02 2.76086244e-01 1.18596271e+12\n",
      " 1.18596271e+12 5.91272969e+13 5.82717709e+13 3.28691270e+13\n",
      " 4.71495582e+13 2.27931451e+13 6.35775503e+13 5.23531635e+13\n",
      " 2.23416450e+13 2.81663143e+13 7.41674852e+12 2.63324133e+13\n",
      " 6.06468548e+13]\n"
     ]
    }
   ],
   "source": [
    "print(\"Intercept: \",model.intercept_)\n",
    "print(\"Coefficient: \",model.coef_)"
   ]
  },
  {
   "cell_type": "code",
   "execution_count": 33,
   "id": "abf30a35",
   "metadata": {},
   "outputs": [
    {
     "name": "stdout",
     "output_type": "stream",
     "text": [
      "[ 6.40377066e+12  6.40377066e+12 -5.70382356e+12 ...  6.40377066e+12\n",
      " -1.23888588e+13 -3.50278250e+12]\n"
     ]
    }
   ],
   "source": [
    "from sklearn.metrics import confusion_matrix, accuracy_score, precision_score, recall_score, f1_score\n",
    "predictions = model.predict(X_test)\n",
    "print(predictions)"
   ]
  },
  {
   "cell_type": "code",
   "execution_count": 31,
   "id": "23511bbb",
   "metadata": {},
   "outputs": [],
   "source": [
    "def models(X_train, Y_train):\n",
    "    \n",
    "    from sklearn.linear_model import LogisticRegression\n",
    "    log = LogisticRegression(random_state = 0)\n",
    "    log.fit(X_train, Y_train)\n",
    "    \n",
    "    from sklearn.neighbors import KNeighborsClassifier\n",
    "    knn = KNeighborsClassifier(n_neighbors = 5, metric = 'minkowski', p=2)\n",
    "    knn.fit(X_train, Y_train)\n",
    "    \n",
    "    from sklearn.svm import SVC\n",
    "    svc_lin = SVC(kernel = 'linear', random_state=0)\n",
    "    svc_lin.fit(X_train, Y_train)\n",
    "    \n",
    "    svc_rbf = SVC(kernel = 'rbf', random_state=0)\n",
    "    svc_rbf.fit(X_train, Y_train)\n",
    "    \n",
    "    from sklearn.naive_bayes import GaussianNB\n",
    "    gauss = GaussianNB()\n",
    "    gauss.fit(X_train, Y_train)\n",
    "    \n",
    "    from sklearn.tree import DecisionTreeClassifier\n",
    "    tree = DecisionTreeClassifier(criterion = 'entropy', random_state = 0)\n",
    "    tree.fit(X_train, Y_train)\n",
    "    \n",
    "    from sklearn.ensemble import RandomForestClassifier\n",
    "    forest = RandomForestClassifier(n_estimators=10, criterion = 'entropy', random_state = 0)\n",
    "    forest.fit(X_train, Y_train)\n",
    "    \n",
    "    print('[0]Logistic Regression Training Accuracy: ', log.score(X_train, Y_train))\n",
    "    print('[1]K Neighbors Training Accuracy: ', knn.score(X_train, Y_train))\n",
    "    print('[2]SVC Linear Training Accuracy: ', svc_lin.score(X_train, Y_train))\n",
    "    print('[3]SVC rbf Training Accuracy: ', svc_rbf.score(X_train, Y_train))\n",
    "    print('[4]Gaussian NB Training Accuracy: ', gauss.score(X_train, Y_train))\n",
    "    print('[5]Decision Tree Training Accuracy: ', tree.score(X_train, Y_train))\n",
    "    print('[6]Random Forest Training Accuracy: ', forest.score(X_train, Y_train))\n",
    "    \n",
    "    return log, knn, svc_lin, svc_rbf, gauss, tree, forest"
   ]
  },
  {
   "cell_type": "code",
   "execution_count": 32,
   "id": "233c5b08",
   "metadata": {},
   "outputs": [
    {
     "name": "stderr",
     "output_type": "stream",
     "text": [
      "C:\\Users\\LabUser\\anaconda3\\lib\\site-packages\\sklearn\\linear_model\\_logistic.py:814: ConvergenceWarning: lbfgs failed to converge (status=1):\n",
      "STOP: TOTAL NO. of ITERATIONS REACHED LIMIT.\n",
      "\n",
      "Increase the number of iterations (max_iter) or scale the data as shown in:\n",
      "    https://scikit-learn.org/stable/modules/preprocessing.html\n",
      "Please also refer to the documentation for alternative solver options:\n",
      "    https://scikit-learn.org/stable/modules/linear_model.html#logistic-regression\n",
      "  n_iter_i = _check_optimize_result(\n"
     ]
    },
    {
     "name": "stdout",
     "output_type": "stream",
     "text": [
      "[0]Logistic Regression Training Accuracy:  0.8103530156719962\n",
      "[1]K Neighbors Training Accuracy:  0.8171600443248377\n",
      "[2]SVC Linear Training Accuracy:  0.8106696216558493\n",
      "[3]SVC rbf Training Accuracy:  0.8120943485831882\n",
      "[4]Gaussian NB Training Accuracy:  0.0074402406205477285\n",
      "[5]Decision Tree Training Accuracy:  0.9957258192179832\n",
      "[6]Random Forest Training Accuracy:  0.9642235238246003\n"
     ]
    }
   ],
   "source": [
    "model = models(X_train, Y_train)"
   ]
  },
  {
   "cell_type": "code",
   "execution_count": 33,
   "id": "cc0f6f9d",
   "metadata": {},
   "outputs": [
    {
     "name": "stdout",
     "output_type": "stream",
     "text": [
      "Model[0] Testing Accuracy = \"0.8082278481012658\"\n",
      "Model[1] Testing Accuracy = \"0.8018987341772152\"\n",
      "Model[2] Testing Accuracy = \"0.8088607594936709\"\n",
      "Model[3] Testing Accuracy = \"0.8088607594936709\"\n",
      "Model[4] Testing Accuracy = \"0.8088607594936709\"\n",
      "Model[5] Testing Accuracy = \"0.6449367088607595\"\n",
      "Model[6] Testing Accuracy = \"0.7341772151898734\"\n"
     ]
    }
   ],
   "source": [
    "from sklearn.metrics import *\n",
    "\n",
    "for i in range(len(model)):\n",
    "    predicted_y = model[i].predict(X_test)\n",
    "    cm = confusion_matrix(Y_test, predicted_y)\n",
    "    accuracy  = accuracy_score(Y_test, predicted_y)\n",
    "    #print(cm)\n",
    "    print('Model[{}] Testing Accuracy = \"{}\"'.format(i, accuracy))"
   ]
  }
 ],
 "metadata": {
  "kernelspec": {
   "display_name": "Python 3 (ipykernel)",
   "language": "python",
   "name": "python3"
  },
  "language_info": {
   "codemirror_mode": {
    "name": "ipython",
    "version": 3
   },
   "file_extension": ".py",
   "mimetype": "text/x-python",
   "name": "python",
   "nbconvert_exporter": "python",
   "pygments_lexer": "ipython3",
   "version": "3.9.13"
  }
 },
 "nbformat": 4,
 "nbformat_minor": 5
}
